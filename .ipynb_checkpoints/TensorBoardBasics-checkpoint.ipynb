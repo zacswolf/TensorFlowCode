{
 "cells": [
  {
   "cell_type": "code",
   "execution_count": 36,
   "metadata": {
    "collapsed": true
   },
   "outputs": [],
   "source": [
    "# https://stackoverflow.com/questions/33663081/how-to-create-a-tensorflow-tensorboard-empty-graph\n",
    "import tensorflow as tf"
   ]
  },
  {
   "cell_type": "code",
   "execution_count": 37,
   "metadata": {
    "collapsed": false
   },
   "outputs": [],
   "source": [
    "sess = tf.InteractiveSession()"
   ]
  },
  {
   "cell_type": "code",
   "execution_count": 38,
   "metadata": {
    "collapsed": true
   },
   "outputs": [],
   "source": [
    "x_data = tf.truncated_normal([100], stddev=0.1) # random\n",
    "y_data = x * .1 + .3"
   ]
  },
  {
   "cell_type": "code",
   "execution_count": 39,
   "metadata": {
    "collapsed": true
   },
   "outputs": [],
   "source": [
    "W = tf.Variable(tf.random_uniform([1], -1.0, 1.0))\n",
    "b = tf.Variable(tf.zeros([1]))\n",
    "y = W * x_data + b"
   ]
  },
  {
   "cell_type": "code",
   "execution_count": 40,
   "metadata": {
    "collapsed": false
   },
   "outputs": [],
   "source": [
    "loss = tf.reduce_mean(tf.square(y - y_data))\n",
    "optimizer = tf.train.GradientDescentOptimizer(0.5)\n",
    "train = optimizer.minimize(loss)"
   ]
  },
  {
   "cell_type": "code",
   "execution_count": 41,
   "metadata": {
    "collapsed": false
   },
   "outputs": [],
   "source": [
    "tf.global_variables_initializer().run()"
   ]
  },
  {
   "cell_type": "code",
   "execution_count": 42,
   "metadata": {
    "collapsed": false
   },
   "outputs": [],
   "source": [
    "writer = tf.summary.FileWriter(\"./logs/TensorBoardBasics\", sess.graph)"
   ]
  },
  {
   "cell_type": "code",
   "execution_count": 43,
   "metadata": {
    "collapsed": false
   },
   "outputs": [
    {
     "name": "stdout",
     "output_type": "stream",
     "text": [
      "(0, array([-0.76261163], dtype=float32), array([ 0.30615404], dtype=float32))\n",
      "(20, array([-0.65547615], dtype=float32), array([ 0.29962468], dtype=float32))\n",
      "(40, array([-0.56096494], dtype=float32), array([ 0.3008371], dtype=float32))\n",
      "(60, array([-0.47981831], dtype=float32), array([ 0.30062756], dtype=float32))\n",
      "(80, array([-0.40999299], dtype=float32), array([ 0.29746512], dtype=float32))\n",
      "(100, array([-0.35012773], dtype=float32), array([ 0.29709363], dtype=float32))\n",
      "(120, array([-0.30093938], dtype=float32), array([ 0.30147982], dtype=float32))\n",
      "(140, array([-0.25833192], dtype=float32), array([ 0.30016589], dtype=float32))\n",
      "(160, array([-0.22211841], dtype=float32), array([ 0.3043592], dtype=float32))\n",
      "(180, array([-0.19006586], dtype=float32), array([ 0.2992909], dtype=float32))\n",
      "(200, array([-0.16323498], dtype=float32), array([ 0.29801345], dtype=float32))\n"
     ]
    }
   ],
   "source": [
    "for step in xrange(201):\n",
    "    sess.run(train)\n",
    "    if step % 20 == 0:\n",
    "        print(step, sess.run(W), sess.run(b))"
   ]
  },
  {
   "cell_type": "code",
   "execution_count": null,
   "metadata": {
    "collapsed": true
   },
   "outputs": [],
   "source": []
  }
 ],
 "metadata": {
  "kernelspec": {
   "display_name": "Python 2",
   "language": "python",
   "name": "python2"
  },
  "language_info": {
   "codemirror_mode": {
    "name": "ipython",
    "version": 2
   },
   "file_extension": ".py",
   "mimetype": "text/x-python",
   "name": "python",
   "nbconvert_exporter": "python",
   "pygments_lexer": "ipython2",
   "version": "2.7.13"
  }
 },
 "nbformat": 4,
 "nbformat_minor": 2
}
