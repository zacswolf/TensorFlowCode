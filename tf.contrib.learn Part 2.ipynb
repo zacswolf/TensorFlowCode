{
 "cells": [
  {
   "cell_type": "code",
   "execution_count": 11,
   "metadata": {
    "collapsed": true
   },
   "outputs": [],
   "source": [
    "# https://www.tensorflow.org/get_started/get_started\n",
    "import numpy as np\n",
    "import tensorflow as tf"
   ]
  },
  {
   "cell_type": "code",
   "execution_count": 12,
   "metadata": {
    "collapsed": false
   },
   "outputs": [
    {
     "name": "stdout",
     "output_type": "stream",
     "text": [
      "INFO:tensorflow:Using default config.\n",
      "INFO:tensorflow:Using config: {'_model_dir': None, '_save_checkpoints_secs': 600, '_num_ps_replicas': 0, '_keep_checkpoint_max': 5, '_tf_random_seed': None, '_task_type': None, '_environment': 'local', '_is_chief': True, '_cluster_spec': <tensorflow.python.training.server_lib.ClusterSpec object at 0x122a9cb10>, '_tf_config': gpu_options {\n",
      "  per_process_gpu_memory_fraction: 1\n",
      "}\n",
      ", '_num_worker_replicas': 0, '_task_id': 0, '_save_summary_steps': 100, '_save_checkpoints_steps': None, '_evaluation_master': '', '_keep_checkpoint_every_n_hours': 10000, '_master': ''}\n",
      "WARNING:tensorflow:Using temporary folder as model directory: /var/folders/9d/lkkm1zh972d8wws2126jk3jh0000gn/T/tmpDjdtgS\n"
     ]
    }
   ],
   "source": [
    "# Declare list of features, we only have one real-valued feature\n",
    "def model(features, labels, mode):\n",
    "    # Build a linear model and predict values\n",
    "    W = tf.get_variable(\"W\", [1], dtype=tf.float64)\n",
    "    b = tf.get_variable(\"b\", [1], dtype=tf.float64)\n",
    "    y = W*features['x'] + b\n",
    "    # Loss sub-graph\n",
    "    loss = tf.reduce_sum(tf.square(y - labels))\n",
    "    # Training sub-graph\n",
    "    global_step = tf.train.get_global_step()\n",
    "    optimizer = tf.train.GradientDescentOptimizer(0.01)\n",
    "    train = tf.group(optimizer.minimize(loss), tf.assign_add(global_step, 1))\n",
    "    # ModelFnOps connects subgraphs we build to the appropriate functionality\n",
    "    return tf. contrib.learn.ModelFnOps(\n",
    "        mode=mode,predictions=y,\n",
    "        loss=loss,\n",
    "        train_op=train)\n",
    "\n",
    "estimator = tf.contrib.learn.Estimator(model_fn=model)"
   ]
  },
  {
   "cell_type": "code",
   "execution_count": 13,
   "metadata": {
    "collapsed": false
   },
   "outputs": [],
   "source": [
    "# define our data set\n",
    "x = np.array([1., 2., 3., 4.])\n",
    "y = np.array([0., -1., -2., -3.])\n",
    "input_fn = tf.contrib.learn.io.numpy_input_fn({\"x\": x}, y, 4, num_epochs=1000)"
   ]
  },
  {
   "cell_type": "code",
   "execution_count": 14,
   "metadata": {
    "collapsed": false
   },
   "outputs": [
    {
     "name": "stdout",
     "output_type": "stream",
     "text": [
      "INFO:tensorflow:Create CheckpointSaverHook.\n",
      "INFO:tensorflow:Saving checkpoints for 1 into /var/folders/9d/lkkm1zh972d8wws2126jk3jh0000gn/T/tmpDjdtgS/model.ckpt.\n",
      "INFO:tensorflow:loss = 23.9670209789, step = 1\n",
      "INFO:tensorflow:global_step/sec: 707.103\n",
      "INFO:tensorflow:loss = 0.458907294799, step = 101 (0.143 sec)\n",
      "INFO:tensorflow:global_step/sec: 770.629\n",
      "INFO:tensorflow:loss = 0.0903859898567, step = 201 (0.130 sec)\n",
      "INFO:tensorflow:global_step/sec: 742.402\n",
      "INFO:tensorflow:loss = 0.00583250730371, step = 301 (0.135 sec)\n",
      "INFO:tensorflow:global_step/sec: 694.083\n",
      "INFO:tensorflow:loss = 0.000209187928556, step = 401 (0.144 sec)\n",
      "INFO:tensorflow:global_step/sec: 749.962\n",
      "INFO:tensorflow:loss = 1.39213329573e-05, step = 501 (0.133 sec)\n",
      "INFO:tensorflow:global_step/sec: 776.036\n",
      "INFO:tensorflow:loss = 5.15056162333e-07, step = 601 (0.129 sec)\n",
      "INFO:tensorflow:global_step/sec: 748.263\n",
      "INFO:tensorflow:loss = 2.05466540684e-07, step = 701 (0.133 sec)\n",
      "INFO:tensorflow:global_step/sec: 854.336\n",
      "INFO:tensorflow:loss = 9.31707439739e-09, step = 801 (0.117 sec)\n",
      "INFO:tensorflow:global_step/sec: 1062.8\n",
      "INFO:tensorflow:loss = 1.06665485836e-09, step = 901 (0.094 sec)\n",
      "INFO:tensorflow:Saving checkpoints for 1000 into /var/folders/9d/lkkm1zh972d8wws2126jk3jh0000gn/T/tmpDjdtgS/model.ckpt.\n",
      "INFO:tensorflow:Loss for final step: 6.44959307693e-11.\n"
     ]
    },
    {
     "data": {
      "text/plain": [
       "Estimator(params=None)"
      ]
     },
     "execution_count": 14,
     "metadata": {},
     "output_type": "execute_result"
    }
   ],
   "source": [
    "# train\n",
    "estimator.fit(input_fn=input_fn, steps=1000)"
   ]
  },
  {
   "cell_type": "code",
   "execution_count": 15,
   "metadata": {
    "collapsed": true
   },
   "outputs": [],
   "source": [
    "#train estimator.fit(input_fn, steps=1000)"
   ]
  },
  {
   "cell_type": "code",
   "execution_count": 18,
   "metadata": {
    "collapsed": false
   },
   "outputs": [
    {
     "name": "stdout",
     "output_type": "stream",
     "text": [
      "INFO:tensorflow:Starting evaluation at 2017-05-30-14:36:43\n",
      "INFO:tensorflow:Restoring parameters from /var/folders/9d/lkkm1zh972d8wws2126jk3jh0000gn/T/tmpDjdtgS/model.ckpt-1000\n",
      "INFO:tensorflow:Evaluation [1/10]\n",
      "INFO:tensorflow:Evaluation [2/10]\n",
      "INFO:tensorflow:Evaluation [3/10]\n",
      "INFO:tensorflow:Evaluation [4/10]\n",
      "INFO:tensorflow:Evaluation [5/10]\n",
      "INFO:tensorflow:Evaluation [6/10]\n",
      "INFO:tensorflow:Evaluation [7/10]\n",
      "INFO:tensorflow:Evaluation [8/10]\n",
      "INFO:tensorflow:Evaluation [9/10]\n",
      "INFO:tensorflow:Evaluation [10/10]\n",
      "INFO:tensorflow:Finished evaluation at 2017-05-30-14:36:43\n",
      "INFO:tensorflow:Saving dict for global step 1000: global_step = 1000, loss = 1.09881e-10\n",
      "WARNING:tensorflow:Skipping summary for global_step, must be a float or np.float32.\n",
      "{'loss': 1.0988092e-10, 'global_step': 1000}\n"
     ]
    }
   ],
   "source": [
    "#evaluate our model\n",
    "print(estimator.evaluate(input_fn=input_fn, steps=10))"
   ]
  },
  {
   "cell_type": "code",
   "execution_count": null,
   "metadata": {
    "collapsed": true
   },
   "outputs": [],
   "source": []
  }
 ],
 "metadata": {
  "kernelspec": {
   "display_name": "Python 2",
   "language": "python",
   "name": "python2"
  },
  "language_info": {
   "codemirror_mode": {
    "name": "ipython",
    "version": 2
   },
   "file_extension": ".py",
   "mimetype": "text/x-python",
   "name": "python",
   "nbconvert_exporter": "python",
   "pygments_lexer": "ipython2",
   "version": "2.7.13"
  }
 },
 "nbformat": 4,
 "nbformat_minor": 2
}
